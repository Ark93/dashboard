{
 "cells": [
  {
   "cell_type": "code",
   "execution_count": 2,
   "metadata": {},
   "outputs": [],
   "source": [
    "import influxdb_client\n",
    "import pandas as pd"
   ]
  },
  {
   "cell_type": "code",
   "execution_count": 3,
   "metadata": {},
   "outputs": [],
   "source": [
    "client = influxdb_client.connect_database()"
   ]
  },
  {
   "cell_type": "code",
   "execution_count": 4,
   "metadata": {},
   "outputs": [],
   "source": [
    "df = influxdb_client.query_to_dataframe(client)"
   ]
  },
  {
   "cell_type": "code",
   "execution_count": 5,
   "metadata": {},
   "outputs": [
    {
     "data": {
      "text/html": [
       "<div>\n",
       "<style scoped>\n",
       "    .dataframe tbody tr th:only-of-type {\n",
       "        vertical-align: middle;\n",
       "    }\n",
       "\n",
       "    .dataframe tbody tr th {\n",
       "        vertical-align: top;\n",
       "    }\n",
       "\n",
       "    .dataframe thead th {\n",
       "        text-align: right;\n",
       "    }\n",
       "</style>\n",
       "<table border=\"1\" class=\"dataframe\">\n",
       "  <thead>\n",
       "    <tr style=\"text-align: right;\">\n",
       "      <th></th>\n",
       "      <th>time</th>\n",
       "      <th>value</th>\n",
       "    </tr>\n",
       "  </thead>\n",
       "  <tbody>\n",
       "    <tr>\n",
       "      <th>0</th>\n",
       "      <td>2020-07-17 18:00:13.389995+00:00</td>\n",
       "      <td>36327.839844</td>\n",
       "    </tr>\n",
       "    <tr>\n",
       "      <th>1</th>\n",
       "      <td>2020-07-17 18:35:43.009230+00:00</td>\n",
       "      <td>36327.839844</td>\n",
       "    </tr>\n",
       "    <tr>\n",
       "      <th>2</th>\n",
       "      <td>2020-07-17 23:40:32.066297+00:00</td>\n",
       "      <td>36327.839844</td>\n",
       "    </tr>\n",
       "    <tr>\n",
       "      <th>3</th>\n",
       "      <td>2020-07-17 23:52:27.720545+00:00</td>\n",
       "      <td>36327.839844</td>\n",
       "    </tr>\n",
       "    <tr>\n",
       "      <th>4</th>\n",
       "      <td>2020-07-17 23:52:29.563945+00:00</td>\n",
       "      <td>36327.839844</td>\n",
       "    </tr>\n",
       "    <tr>\n",
       "      <th>...</th>\n",
       "      <td>...</td>\n",
       "      <td>...</td>\n",
       "    </tr>\n",
       "    <tr>\n",
       "      <th>562</th>\n",
       "      <td>2020-07-18 22:52:21.071922+00:00</td>\n",
       "      <td>36327.839844</td>\n",
       "    </tr>\n",
       "    <tr>\n",
       "      <th>563</th>\n",
       "      <td>2020-07-18 22:52:23.031373+00:00</td>\n",
       "      <td>36327.839844</td>\n",
       "    </tr>\n",
       "    <tr>\n",
       "      <th>564</th>\n",
       "      <td>2020-07-18 22:52:24.797042+00:00</td>\n",
       "      <td>36327.839844</td>\n",
       "    </tr>\n",
       "    <tr>\n",
       "      <th>565</th>\n",
       "      <td>2020-07-18 22:52:26.662244+00:00</td>\n",
       "      <td>36327.839844</td>\n",
       "    </tr>\n",
       "    <tr>\n",
       "      <th>566</th>\n",
       "      <td>2020-07-18 22:52:28.548728+00:00</td>\n",
       "      <td>36327.839844</td>\n",
       "    </tr>\n",
       "  </tbody>\n",
       "</table>\n",
       "<p>567 rows × 2 columns</p>\n",
       "</div>"
      ],
      "text/plain": [
       "                                time         value\n",
       "0   2020-07-17 18:00:13.389995+00:00  36327.839844\n",
       "1   2020-07-17 18:35:43.009230+00:00  36327.839844\n",
       "2   2020-07-17 23:40:32.066297+00:00  36327.839844\n",
       "3   2020-07-17 23:52:27.720545+00:00  36327.839844\n",
       "4   2020-07-17 23:52:29.563945+00:00  36327.839844\n",
       "..                               ...           ...\n",
       "562 2020-07-18 22:52:21.071922+00:00  36327.839844\n",
       "563 2020-07-18 22:52:23.031373+00:00  36327.839844\n",
       "564 2020-07-18 22:52:24.797042+00:00  36327.839844\n",
       "565 2020-07-18 22:52:26.662244+00:00  36327.839844\n",
       "566 2020-07-18 22:52:28.548728+00:00  36327.839844\n",
       "\n",
       "[567 rows x 2 columns]"
      ]
     },
     "execution_count": 5,
     "metadata": {},
     "output_type": "execute_result"
    }
   ],
   "source": [
    "df"
   ]
  },
  {
   "cell_type": "code",
   "execution_count": null,
   "metadata": {},
   "outputs": [],
   "source": []
  }
 ],
 "metadata": {
  "kernelspec": {
   "display_name": "Python 3",
   "language": "python",
   "name": "python3"
  },
  "language_info": {
   "codemirror_mode": {
    "name": "ipython",
    "version": 3
   },
   "file_extension": ".py",
   "mimetype": "text/x-python",
   "name": "python",
   "nbconvert_exporter": "python",
   "pygments_lexer": "ipython3",
   "version": "3.7.6"
  }
 },
 "nbformat": 4,
 "nbformat_minor": 4
}
